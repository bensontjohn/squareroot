{
 "cells": [
  {
   "cell_type": "markdown",
   "metadata": {},
   "source": [
    "# Square root of 2"
   ]
  },
  {
   "cell_type": "markdown",
   "metadata": {},
   "source": [
    "This is my solution for the Task Assessment to write a Python function that calculates the square root of 2 to 100 decimal places with out depending on any module from the standary library."
   ]
  },
  {
   "cell_type": "code",
   "execution_count": 1,
   "metadata": {},
   "outputs": [
    {
     "name": "stdout",
     "output_type": "stream",
     "text": [
      "Enter a number to get the square Root: 2\n",
      "1.4142135623730950488016887242096980785696718753769480731766797379907324784621070388503875343276415727\n"
     ]
    }
   ],
   "source": [
    "def squareRoot(num): \n",
    "    # Integer value of n\n",
    "    Integer_number = int(num) \n",
    "    initial_value = int(1)\n",
    "      \n",
    "    # Set accuracy level \n",
    "    accuracy = 0.100\n",
    "    while(Integer_number - initial_value  > accuracy): \n",
    "        Integer_number = (Integer_number + initial_value) // 2\n",
    "        initial_value = num // Integer_number \n",
    "  \n",
    "    return int(Integer_number)\n",
    "user_input = int(input(\"Enter a number to get the square Root: \"))\n",
    "\n",
    "while user_input > 0:\n",
    "    # To have more than 100 digits after the squareroot or obtain 100 decimail places.\n",
    "    num = user_input * 10 ** 200\n",
    "    result =squareRoot(num)\n",
    "    print(f'{result // 10**100}.{result % 10**100:100d}')\n",
    "    break"
   ]
  },
  {
   "cell_type": "code",
   "execution_count": null,
   "metadata": {},
   "outputs": [],
   "source": []
  }
 ],
 "metadata": {
  "kernelspec": {
   "display_name": "Python 3",
   "language": "python",
   "name": "python3"
  },
  "language_info": {
   "codemirror_mode": {
    "name": "ipython",
    "version": 3
   },
   "file_extension": ".py",
   "mimetype": "text/x-python",
   "name": "python",
   "nbconvert_exporter": "python",
   "pygments_lexer": "ipython3",
   "version": "3.8.3"
  }
 },
 "nbformat": 4,
 "nbformat_minor": 2
}
