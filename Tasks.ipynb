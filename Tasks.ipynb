{
 "cells": [
  {
   "cell_type": "markdown",
   "metadata": {},
   "source": [
    "# Square root of 2"
   ]
  },
  {
   "cell_type": "markdown",
   "metadata": {},
   "source": [
    "This is my solution for the Task Assessment to write a Python function that calculates the square root of 2 to 100 decimal places with out depending on any module from the standary library."
   ]
  },
  {
   "cell_type": "markdown",
   "metadata": {},
   "source": [
    "The Newton-Raphson method, or Newton Method, is a powerful technique for solving equations numerically. It is based on linear approximation. Newton's method can be used to calculate the square root of a number by first taking a guess and then iteratively moving closer toward the actual square root.\n",
    "\n",
    "The square root of 2 can also be calculated as the one-half power of 2 (https://en.wikipedia.org/wiki/Square_root_of_2)\n",
    "\n",
    "(x1/2) * (x1/2) = x(1/2 + 1/2) = x1 (http://mathforum.org/library/drmath/view/65402.html)\n",
    "\n",
    "1.4142135623730950488016887242096980785696718753769480731766797379907324784621070388503875343276415727"
   ]
  },
  {
   "cell_type": "code",
   "execution_count": 1,
   "metadata": {},
   "outputs": [
    {
     "data": {
      "text/plain": [
       "1.4142135623730951"
      ]
     },
     "execution_count": 1,
     "metadata": {},
     "output_type": "execute_result"
    }
   ],
   "source": [
    "# Calculating square root 2 with half exponent\n",
    "exp_half = 2 ** .5\n",
    "exp_half"
   ]
  },
  {
   "cell_type": "code",
   "execution_count": 2,
   "metadata": {},
   "outputs": [
    {
     "data": {
      "text/plain": [
       "'1.4142135623730951454746218587388284504413604736328125000000000000000000000000000000000000000000000000'"
      ]
     },
     "execution_count": 2,
     "metadata": {},
     "output_type": "execute_result"
    }
   ],
   "source": [
    "\"{:.100f}\".format(exp_half)"
   ]
  },
  {
   "cell_type": "markdown",
   "metadata": {},
   "source": [
    "While more decimal places are returned here, they appear to become incorrect after the 15th digit. This is due to the difficulty of computing floating point numbers, compounded by the fact that root 2 is an irrational number, seemingly infinite with no repeating pattern."
   ]
  },
  {
   "cell_type": "markdown",
   "metadata": {},
   "source": [
    "Binary expresses real numbers in base 2 and so decimal fractions are expressed as base 2 fractions. If the denominator of the decimal fraction to be expressed is a power of 2, they can be represented accurately (https://stackoverflow.com/a/588014) but other numbers can only be approximated and rounding errors are inherent to their calculation (https://docs.oracle.com/cd/E19957-01/806-3568/ncg_goldberg.html)."
   ]
  },
  {
   "cell_type": "code",
   "execution_count": 3,
   "metadata": {},
   "outputs": [
    {
     "name": "stdout",
     "output_type": "stream",
     "text": [
      "Enter a number to get the square Root: 2\n",
      "1.4142135623730950488016887242096980785696718753769480731766797379907324784621070388503875343276415727\n"
     ]
    }
   ],
   "source": [
    "def squareRoot(num): \n",
    "    # Integer value of n\n",
    "    Integer_number = int(num) \n",
    "    initial_value = int(1)\n",
    "      \n",
    "    # Set accuracy level \n",
    "    accuracy = 0.100\n",
    "    while(Integer_number - initial_value  > accuracy): \n",
    "        Integer_number = (Integer_number + initial_value) // 2\n",
    "        initial_value = num // Integer_number \n",
    "  \n",
    "    return int(Integer_number)\n",
    "user_input = int(input(\"Enter a number to get the square Root: \"))\n",
    "\n",
    "while user_input > 0:\n",
    "    # To have more than 100 digits after the squareroot or obtain 100 decimail places.\n",
    "    num = user_input * 10 ** 200\n",
    "    result =squareRoot(num)\n",
    "    print(f'{result // 10**100}.{result % 10**100:100d}')\n",
    "    break"
   ]
  },
  {
   "cell_type": "code",
   "execution_count": null,
   "metadata": {},
   "outputs": [],
   "source": []
  }
 ],
 "metadata": {
  "kernelspec": {
   "display_name": "Python 3",
   "language": "python",
   "name": "python3"
  },
  "language_info": {
   "codemirror_mode": {
    "name": "ipython",
    "version": 3
   },
   "file_extension": ".py",
   "mimetype": "text/x-python",
   "name": "python",
   "nbconvert_exporter": "python",
   "pygments_lexer": "ipython3",
   "version": "3.8.3"
  }
 },
 "nbformat": 4,
 "nbformat_minor": 2
}
